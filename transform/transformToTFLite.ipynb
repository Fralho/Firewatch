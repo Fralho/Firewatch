{
 "cells": [
  {
   "cell_type": "code",
   "execution_count": 1,
   "id": "484aeac4-3eb6-4be1-bb85-143d4f23a5b8",
   "metadata": {
    "execution": {
     "iopub.execute_input": "2025-08-22T15:09:16.281436Z",
     "iopub.status.busy": "2025-08-22T15:09:16.279891Z",
     "iopub.status.idle": "2025-08-22T15:09:22.145724Z",
     "shell.execute_reply": "2025-08-22T15:09:22.144562Z",
     "shell.execute_reply.started": "2025-08-22T15:09:16.281382Z"
    }
   },
   "outputs": [
    {
     "name": "stderr",
     "output_type": "stream",
     "text": [
      "Downloading https://github.com/ultralytics/assets/releases/download/v8.3.0/yolo11n.pt to 'yolo11n.pt': 100%|██████████| 5.35M/5.35M [00:00<00:00, 28.4MB/s]\n"
     ]
    },
    {
     "name": "stdout",
     "output_type": "stream",
     "text": [
      "Ultralytics 8.3.182 🚀 Python-3.10.12 torch-2.0.1+cu118 CPU (Intel Xeon Processor (Cascadelake))\n",
      "YOLO11n summary (fused): 100 layers, 2,616,248 parameters, 0 gradients, 6.5 GFLOPs\n",
      "\n",
      "\u001b[34m\u001b[1mPyTorch:\u001b[0m starting from 'yolo11n.pt' with input shape (1, 3, 640, 640) BCHW and output shape(s) (1, 84, 8400) (5.4 MB)\n",
      "\n",
      "\u001b[34m\u001b[1mONNX:\u001b[0m starting export with onnx 1.17.0 opset 14...\n",
      "============= Diagnostic Run torch.onnx.export version 2.0.1+cu118 =============\n",
      "verbose: False, log level: Level.ERROR\n",
      "======================= 0 NONE 0 NOTE 0 WARNING 0 ERROR ========================\n",
      "\n",
      "\u001b[34m\u001b[1mONNX:\u001b[0m slimming with onnxslim 0.1.64...\n",
      "\u001b[34m\u001b[1mONNX:\u001b[0m export success ✅ 2.1s, saved as 'yolo11n.onnx' (10.2 MB)\n",
      "\n",
      "Export complete (2.6s)\n",
      "Results saved to \u001b[1m/home/jupyter/work/resources/transform\u001b[0m\n",
      "Predict:         yolo predict task=detect model=yolo11n.onnx imgsz=640  \n",
      "Validate:        yolo val task=detect model=yolo11n.onnx imgsz=640 data=/usr/src/ultralytics/ultralytics/cfg/datasets/coco.yaml  \n",
      "Visualize:       https://netron.app\n"
     ]
    },
    {
     "data": {
      "text/plain": [
       "'yolo11n.onnx'"
      ]
     },
     "execution_count": 1,
     "metadata": {},
     "output_type": "execute_result"
    }
   ],
   "source": [
    "from ultralytics import YOLO\n",
    "model = YOLO(\"yolo11n.pt\")  \n",
    "model.export(format=\"onnx\", opset=14) # преобразование в onnx"
   ]
  },
  {
   "cell_type": "code",
   "execution_count": 2,
   "id": "deef9f5b-ed71-4ea1-a23b-5d915f60a2c3",
   "metadata": {
    "execution": {
     "iopub.execute_input": "2025-08-22T15:09:22.148562Z",
     "iopub.status.busy": "2025-08-22T15:09:22.147736Z",
     "iopub.status.idle": "2025-08-22T15:09:42.461537Z",
     "shell.execute_reply": "2025-08-22T15:09:42.460163Z",
     "shell.execute_reply.started": "2025-08-22T15:09:22.148508Z"
    }
   },
   "outputs": [
    {
     "ename": "AttributeError",
     "evalue": "'MessageFactory' object has no attribute 'GetPrototype'",
     "output_type": "error",
     "traceback": [
      "\u001b[0;31m---------------------------------------------------------------------------\u001b[0m",
      "\u001b[0;31mAttributeError\u001b[0m                            Traceback (most recent call last)",
      "\u001b[0;31mAttributeError\u001b[0m: 'MessageFactory' object has no attribute 'GetPrototype'"
     ]
    },
    {
     "ename": "AttributeError",
     "evalue": "'MessageFactory' object has no attribute 'GetPrototype'",
     "output_type": "error",
     "traceback": [
      "\u001b[0;31m---------------------------------------------------------------------------\u001b[0m",
      "\u001b[0;31mAttributeError\u001b[0m                            Traceback (most recent call last)",
      "\u001b[0;31mAttributeError\u001b[0m: 'MessageFactory' object has no attribute 'GetPrototype'"
     ]
    },
    {
     "name": "stderr",
     "output_type": "stream",
     "text": [
      "INFO:absl:Function `__call__` contains input name(s) x, y with unsupported characters which will be renamed to onnx_tf_prefix__model_23_add_1_x, onnx_tf_prefix__model_23_mul_2_y in the SavedModel.\n",
      "INFO:absl:Found untraced functions such as gen_tensor_dict while saving (showing 1 of 1). These functions will not be directly callable after loading.\n"
     ]
    },
    {
     "name": "stdout",
     "output_type": "stream",
     "text": [
      "INFO:tensorflow:Assets written to: yolo_saved_model/assets\n"
     ]
    },
    {
     "name": "stderr",
     "output_type": "stream",
     "text": [
      "INFO:tensorflow:Assets written to: yolo_saved_model/assets\n",
      "INFO:absl:Writing fingerprint to yolo_saved_model/fingerprint.pb\n"
     ]
    }
   ],
   "source": [
    "import onnx\n",
    "from onnx_tf.backend import prepare\n",
    "\n",
    "onnx_path = \"yolo11n.onnx\"   # путь к ONNX\n",
    "onnx_model = onnx.load(onnx_path)\n",
    "tf_rep = prepare(onnx_model, strict=False)\n",
    "tf_rep.export_graph(\"yolo_saved_model\")      # создание директории saved_model\n"
   ]
  },
  {
   "cell_type": "code",
   "execution_count": 3,
   "id": "3f827e1a-556e-4e8e-a49a-bc94c04cfe1e",
   "metadata": {
    "execution": {
     "iopub.execute_input": "2025-08-22T15:09:42.465044Z",
     "iopub.status.busy": "2025-08-22T15:09:42.463635Z",
     "iopub.status.idle": "2025-08-22T15:09:44.557381Z",
     "shell.execute_reply": "2025-08-22T15:09:44.556293Z",
     "shell.execute_reply.started": "2025-08-22T15:09:42.464992Z"
    },
    "tags": []
   },
   "outputs": [
    {
     "data": {
      "text/plain": [
       "10667256"
      ]
     },
     "execution_count": 3,
     "metadata": {},
     "output_type": "execute_result"
    }
   ],
   "source": [
    "import tensorflow as tf\n",
    "\n",
    "saved_model_dir = \"yolo_saved_model\"  \n",
    "converter = tf.lite.TFLiteConverter.from_saved_model(saved_model_dir)\n",
    "\n",
    "# Разрешаем встроенные ops и Select TF Ops (Flex)\n",
    "converter.target_spec.supported_ops = [\n",
    "    tf.lite.OpsSet.TFLITE_BUILTINS,    # обычные ops\n",
    "    tf.lite.OpsSet.SELECT_TF_OPS       # разрешаем встраивать TF ops (Flex)\n",
    "]\n",
    "converter.allow_custom_ops = True\n",
    "\n",
    "tflite_model = converter.convert()\n",
    "open(\"model.tflite\", \"wb\").write(tflite_model)"
   ]
  }
 ],
 "metadata": {
  "kernelspec": {
   "display_name": "DataSphere Kernel",
   "language": "python",
   "name": "python3"
  },
  "language_info": {
   "codemirror_mode": {
    "name": "ipython",
    "version": 3
   },
   "file_extension": ".py",
   "mimetype": "text/x-python",
   "name": "python",
   "nbconvert_exporter": "python",
   "pygments_lexer": "ipython3",
   "version": "3.10.12"
  }
 },
 "nbformat": 4,
 "nbformat_minor": 5
}
