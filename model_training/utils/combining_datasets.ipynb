{
 "cells": [
  {
   "cell_type": "code",
   "execution_count": 1,
   "id": "26d2badf-65c3-4b26-af0d-e6ad8e73a714",
   "metadata": {
    "execution": {
     "iopub.execute_input": "2025-08-31T19:26:49.255494Z",
     "iopub.status.busy": "2025-08-31T19:26:49.254377Z",
     "iopub.status.idle": "2025-08-31T19:26:49.401005Z",
     "shell.execute_reply": "2025-08-31T19:26:49.399974Z",
     "shell.execute_reply.started": "2025-08-31T19:26:49.255444Z"
    },
    "tags": []
   },
   "outputs": [],
   "source": [
    "#!:bash\n",
    "#pragma dataset init big_datasets --size 20Gb  \n"
   ]
  },
  {
   "cell_type": "code",
   "execution_count": 2,
   "id": "f03ba823-95ea-4de9-98d7-8c179e91fcad",
   "metadata": {
    "execution": {
     "iopub.execute_input": "2025-08-31T19:28:19.689167Z",
     "iopub.status.busy": "2025-08-31T19:28:19.688083Z",
     "iopub.status.idle": "2025-08-31T19:28:19.869736Z",
     "shell.execute_reply": "2025-08-31T19:28:19.868152Z",
     "shell.execute_reply.started": "2025-08-31T19:28:19.689114Z"
    }
   },
   "outputs": [
    {
     "name": "stderr",
     "output_type": "stream",
     "text": [
      "cp: target '/home/jupyter/mnt/datasets/big_datasets/images/' is not a directory\n"
     ]
    },
    {
     "ename": "Exception",
     "evalue": "Process exited with code 1",
     "output_type": "error",
     "traceback": [
      "\u001b[0;31m---------------------------------------------------------------------------\u001b[0m",
      "\u001b[0;31mException\u001b[0m                                 Traceback (most recent call last)",
      "\u001b[0;32m/tmp/ipykernel_3689/1510412941.py\u001b[0m in \u001b[0;36m<cell line: 1>\u001b[0;34m()\u001b[0m\n\u001b[0;32m----> 1\u001b[0;31m \u001b[0mexecute_script\u001b[0m\u001b[0;34m(\u001b[0m\u001b[0;34m'bash'\u001b[0m\u001b[0;34m,\u001b[0m \u001b[0;34m'\\nset -e\\ncp -r /home/jupyter/mnt/datasets/dataset-uav-fire/images/* /home/jupyter/mnt/datasets/big_datasets/images/\\ncp -r /home/jupyter/mnt/datasets/dataset-uav-fire/labels/* /home/jupyter/mnt/datasets/big_datasets/labels/\\n\\ncp -r /home/jupyter/mnt/datasets/fire_and_smoke/fire_and_smoke/images/* /home/jupyter/mnt/datasets/big_datasets/images/\\ncp -r /home/jupyter/mnt/datasets/fire_and_smoke/fire_and_smoke/labels/* /home/jupyter/mnt/datasets/big_datasets/labels/'\u001b[0m\u001b[0;34m)\u001b[0m\u001b[0;34m\u001b[0m\u001b[0;34m\u001b[0m\u001b[0m\n\u001b[0m",
      "\u001b[0;32m/kernel/lib/python3.10/site-packages/ml_kernel/script_executor.py\u001b[0m in \u001b[0;36mexecute\u001b[0;34m(self, lang, code)\u001b[0m\n\u001b[1;32m     41\u001b[0m         \u001b[0mreturn_code\u001b[0m \u001b[0;34m=\u001b[0m \u001b[0mself\u001b[0m\u001b[0;34m.\u001b[0m\u001b[0mdo_execute\u001b[0m\u001b[0;34m(\u001b[0m\u001b[0mcode\u001b[0m\u001b[0;34m)\u001b[0m\u001b[0;34m\u001b[0m\u001b[0;34m\u001b[0m\u001b[0m\n\u001b[1;32m     42\u001b[0m         \u001b[0;32mif\u001b[0m \u001b[0mreturn_code\u001b[0m \u001b[0;34m!=\u001b[0m \u001b[0;36m0\u001b[0m\u001b[0;34m:\u001b[0m\u001b[0;34m\u001b[0m\u001b[0;34m\u001b[0m\u001b[0m\n\u001b[0;32m---> 43\u001b[0;31m             \u001b[0;32mraise\u001b[0m \u001b[0mException\u001b[0m\u001b[0;34m(\u001b[0m\u001b[0;34m'Process exited with code %d'\u001b[0m \u001b[0;34m%\u001b[0m \u001b[0mreturn_code\u001b[0m\u001b[0;34m)\u001b[0m\u001b[0;34m\u001b[0m\u001b[0;34m\u001b[0m\u001b[0m\n\u001b[0m",
      "\u001b[0;31mException\u001b[0m: Process exited with code 1"
     ]
    }
   ],
   "source": [
    "#!:bash\n",
    "set -e\n",
    "\n",
    "cp -r /home/jupyter/mnt/datasets/dataset-uav-fire/labels/* /home/jupyter/mnt/datasets/big_datasets/labels/\n",
    "\n",
    "cp -r /home/jupyter/mnt/datasets/fire_and_smoke/fire_and_smoke/images/* /home/jupyter/mnt/datasets/big_datasets/images/\n",
    "cp -r /home/jupyter/mnt/datasets/fire_and_smoke/fire_and_smoke/labels/* /home/jupyter/mnt/datasets/big_datasets/labels/"
   ]
  },
  {
   "cell_type": "code",
   "execution_count": 11,
   "id": "0bb4dc65-031e-4c30-86bd-3bf82f1a100f",
   "metadata": {
    "execution": {
     "iopub.execute_input": "2025-08-31T19:32:17.659608Z",
     "iopub.status.busy": "2025-08-31T19:32:17.658521Z",
     "iopub.status.idle": "2025-08-31T19:32:17.704838Z",
     "shell.execute_reply": "2025-08-31T19:32:17.703536Z",
     "shell.execute_reply.started": "2025-08-31T19:32:17.659559Z"
    },
    "tags": []
   },
   "outputs": [
    {
     "name": "stderr",
     "output_type": "stream",
     "text": [
      "cp: cannot create directory '/home/jupyter/mnt/datasets/big_datasets/images': Read-only file system\n",
      "cp: cannot create directory '/home/jupyter/mnt/datasets/big_datasets/labels': Read-only file system\n",
      "cp: cannot create regular file '/home/jupyter/mnt/datasets/big_datasets/uav_fire_dataset.yaml': Read-only file system\n"
     ]
    },
    {
     "ename": "Exception",
     "evalue": "Process exited with code 1",
     "output_type": "error",
     "traceback": [
      "\u001b[0;31m---------------------------------------------------------------------------\u001b[0m",
      "\u001b[0;31mException\u001b[0m                                 Traceback (most recent call last)",
      "\u001b[0;32m/tmp/ipykernel_3689/2683228585.py\u001b[0m in \u001b[0;36m<cell line: 1>\u001b[0;34m()\u001b[0m\n\u001b[0;32m----> 1\u001b[0;31m \u001b[0mexecute_script\u001b[0m\u001b[0;34m(\u001b[0m\u001b[0;34m'bash'\u001b[0m\u001b[0;34m,\u001b[0m \u001b[0;34m'\\nset -e\\n\\ncp -r /home/jupyter/mnt/datasets/dataset-uav-fire/* /home/jupyter/mnt/datasets/big_datasets'\u001b[0m\u001b[0;34m)\u001b[0m\u001b[0;34m\u001b[0m\u001b[0;34m\u001b[0m\u001b[0m\n\u001b[0m",
      "\u001b[0;32m/kernel/lib/python3.10/site-packages/ml_kernel/script_executor.py\u001b[0m in \u001b[0;36mexecute\u001b[0;34m(self, lang, code)\u001b[0m\n\u001b[1;32m     41\u001b[0m         \u001b[0mreturn_code\u001b[0m \u001b[0;34m=\u001b[0m \u001b[0mself\u001b[0m\u001b[0;34m.\u001b[0m\u001b[0mdo_execute\u001b[0m\u001b[0;34m(\u001b[0m\u001b[0mcode\u001b[0m\u001b[0;34m)\u001b[0m\u001b[0;34m\u001b[0m\u001b[0;34m\u001b[0m\u001b[0m\n\u001b[1;32m     42\u001b[0m         \u001b[0;32mif\u001b[0m \u001b[0mreturn_code\u001b[0m \u001b[0;34m!=\u001b[0m \u001b[0;36m0\u001b[0m\u001b[0;34m:\u001b[0m\u001b[0;34m\u001b[0m\u001b[0;34m\u001b[0m\u001b[0m\n\u001b[0;32m---> 43\u001b[0;31m             \u001b[0;32mraise\u001b[0m \u001b[0mException\u001b[0m\u001b[0;34m(\u001b[0m\u001b[0;34m'Process exited with code %d'\u001b[0m \u001b[0;34m%\u001b[0m \u001b[0mreturn_code\u001b[0m\u001b[0;34m)\u001b[0m\u001b[0;34m\u001b[0m\u001b[0;34m\u001b[0m\u001b[0m\n\u001b[0m",
      "\u001b[0;31mException\u001b[0m: Process exited with code 1"
     ]
    }
   ],
   "source": [
    "#!:bash\n",
    "\n",
    "set -e\n",
    "\n",
    "cp -r /home/jupyter/mnt/datasets/dataset-uav-fire/* /home/jupyter/mnt/datasets/big_datasets"
   ]
  },
  {
   "cell_type": "code",
   "execution_count": null,
   "id": "494a3783-5b3e-433a-8b85-f516e0e026c8",
   "metadata": {
    "execution": {
     "iopub.execute_input": "2025-08-31T20:32:52.564671Z",
     "iopub.status.busy": "2025-08-31T20:32:52.563552Z",
     "iopub.status.idle": "2025-08-31T20:56:26.207198Z"
    },
    "tags": []
   },
   "outputs": [],
   "source": [
    "#pragma dataset init big_datasets --size 20Gb  \n",
    "#!:bash\n",
    "set -e\n",
    "cp -r -v /home/jupyter/datasphere/datasets/dataset-uav-fire/* /home/jupyter/datasphere/datasets/big_datasets\n",
    "cp -r -v /home/jupyter/datasphere/datasets/fire_and_smoke/fire_and_smoke/images/* /home/jupyter/datasphere/datasets/big_datasets/images\n",
    "cp -r -v /home/jupyter/datasphere/datasets/fire_and_smoke/fire_and_smoke/labels/* /home/jupyter/datasphere/datasets/big_datasets/labels"
   ]
  },
  {
   "cell_type": "code",
   "execution_count": null,
   "id": "b39c5979-677b-4b7c-a481-c5115b5693a1",
   "metadata": {},
   "outputs": [],
   "source": []
  }
 ],
 "metadata": {
  "kernelspec": {
   "display_name": "DataSphere Kernel",
   "language": "python",
   "name": "python3"
  },
  "language_info": {
   "codemirror_mode": {
    "name": "ipython",
    "version": 3
   },
   "file_extension": ".py",
   "mimetype": "text/x-python",
   "name": "python",
   "nbconvert_exporter": "python",
   "pygments_lexer": "ipython3",
   "version": "3.10.12"
  }
 },
 "nbformat": 4,
 "nbformat_minor": 5
}
