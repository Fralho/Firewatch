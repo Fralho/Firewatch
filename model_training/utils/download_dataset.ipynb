{
 "cells": [
  {
   "cell_type": "code",
   "execution_count": 2,
   "id": "76224e3f-545e-411e-a52f-ec224663d7da",
   "metadata": {
    "execution": {
     "iopub.execute_input": "2025-08-31T18:12:42.091415Z",
     "iopub.status.busy": "2025-08-31T18:12:42.090232Z",
     "iopub.status.idle": "2025-08-31T18:22:20.138584Z",
     "shell.execute_reply": "2025-08-31T18:22:20.137548Z",
     "shell.execute_reply.started": "2025-08-31T18:12:42.091366Z"
    },
    "tags": []
   },
   "outputs": [],
   "source": [
    "#pragma dataset init fire_and_smoke --size 2Gb\n",
    "\n",
    "import requests\n",
    "from urllib.parse import urlencode\n",
    "from io import BytesIO\n",
    "from zipfile import ZipFile\n",
    "\n",
    "base_url = 'https://cloud-api.yandex.net/v1/disk/public/resources/download?'\n",
    "public_key = 'https://disk.yandex.ru/d/dUArJQr5NB9SzQ'\n",
    "\n",
    "final_url = base_url + urlencode(dict(public_key=public_key))\n",
    "response = requests.get(final_url)\n",
    "download_url = response.json()['href']\n",
    "response = requests.get(download_url)\n",
    "\n",
    "dist_path = '/home/jupyter/mnt/datasets/fire_and_smoke/'\n",
    "zipfile = ZipFile(BytesIO(response.content))\n",
    "zipfile.extractall(path=dist_path)\n"
   ]
  },
  {
   "cell_type": "code",
   "execution_count": null,
   "id": "d471d5cf-ca28-47f8-8896-2b290ab4a1a9",
   "metadata": {},
   "outputs": [],
   "source": []
  }
 ],
 "metadata": {
  "kernelspec": {
   "display_name": "DataSphere Kernel",
   "language": "python",
   "name": "python3"
  },
  "language_info": {
   "codemirror_mode": {
    "name": "ipython",
    "version": 3
   },
   "file_extension": ".py",
   "mimetype": "text/x-python",
   "name": "python",
   "nbconvert_exporter": "python",
   "pygments_lexer": "ipython3",
   "version": "3.10.12"
  }
 },
 "nbformat": 4,
 "nbformat_minor": 5
}
