{
 "cells": [
  {
   "cell_type": "markdown",
   "id": "115ce290-2a89-4918-8cf4-a58054781d52",
   "metadata": {},
   "source": [
    "# Cоздание инстанс датасета. Перенос данных из источника с прогресс-баром"
   ]
  },
  {
   "cell_type": "code",
   "execution_count": null,
   "id": "1e9be7e0-fbec-4667-ab97-6b8ab70bda01",
   "metadata": {
    "tags": []
   },
   "outputs": [
    {
     "name": "stderr",
     "output_type": "stream",
     "text": [
      "Копирование: 100%|█████████▉| 11.7G/11.7G [4:05:19<14:01, 2.01kB/s]   "
     ]
    }
   ],
   "source": [
    "# %%\n",
    "#pragma dataset init dataset_common_fire_smoke --size 15Gb\n",
    "\n",
    "import shutil\n",
    "import os\n",
    "from tqdm import tqdm\n",
    "\n",
    "source_dir = '/home/jupyter/datasphere/s3/dataset-uav-fire/dataset_common_fire/'\n",
    "target_dir = '/home/jupyter/datasphere/datasets/dataset_common_fire_smoke'\n",
    "\n",
    "def copy_with_progress_advanced(src, dst):\n",
    "    # Собираем все файлы и их размеры\n",
    "    all_files = []\n",
    "    total_size = 0\n",
    "    for root, dirs, files in os.walk(src):\n",
    "        for file in files:\n",
    "            file_path = os.path.join(root, file)\n",
    "            file_size = os.path.getsize(file_path)\n",
    "            all_files.append((file_path, file_size))\n",
    "            total_size += file_size\n",
    "\n",
    "    # Копируем с прогресс-баром\n",
    "    with tqdm(total=total_size, desc=\"Копирование\", unit=\"B\", unit_scale=True, unit_divisor=1024) as pbar:\n",
    "        for file_path, file_size in all_files:\n",
    "            relative_path = os.path.relpath(file_path, src)\n",
    "            target_path = os.path.join(dst, relative_path)\n",
    "            \n",
    "            os.makedirs(os.path.dirname(target_path), exist_ok=True)\n",
    "            shutil.copy2(file_path, target_path)\n",
    "            pbar.update(file_size)\n",
    "\n",
    "# Запускаем\n",
    "copy_with_progress_advanced(source_dir, target_dir)\n",
    "print(f\"✅ Скопировано {len(os.listdir(target_dir))} файлов\")"
   ]
  },
  {
   "cell_type": "code",
   "execution_count": null,
   "id": "11ce10cd-1b83-4352-a68e-409aab9cfdc3",
   "metadata": {
    "execution": {
     "iopub.execute_input": "2025-09-11T20:16:23.740659Z",
     "iopub.status.busy": "2025-09-11T20:16:23.739656Z"
    },
    "tags": []
   },
   "outputs": [],
   "source": [
    "#!:bash\n",
    "#pragma dataset init dataset_common_fire_smoke --size 12Gb\n",
    "cp -r -v /home/jupyter/datasphere/s3/dataset-uav-fire/dataset_common_fire/* /home/jupyter/datasphere/datasets/dataset_common_fire_smoke"
   ]
  },
  {
   "cell_type": "code",
   "execution_count": 1,
   "id": "bb000907-fbbc-453e-a638-9dacb681051c",
   "metadata": {
    "execution": {
     "iopub.execute_input": "2025-09-12T03:39:00.765947Z",
     "iopub.status.busy": "2025-09-12T03:39:00.764440Z",
     "iopub.status.idle": "2025-09-12T03:40:48.694368Z",
     "shell.execute_reply": "2025-09-12T03:40:48.693348Z",
     "shell.execute_reply.started": "2025-09-12T03:39:00.765888Z"
    },
    "tags": []
   },
   "outputs": [],
   "source": [
    "rm -rf /home/jupyter/datasets/dataset_common_fire_smoke/*"
   ]
  }
 ],
 "metadata": {
  "kernelspec": {
   "display_name": "DataSphere Kernel",
   "language": "python",
   "name": "python3"
  },
  "language_info": {
   "codemirror_mode": {
    "name": "ipython",
    "version": 3
   },
   "file_extension": ".py",
   "mimetype": "text/x-python",
   "name": "python",
   "nbconvert_exporter": "python",
   "pygments_lexer": "ipython3",
   "version": "3.10.12"
  }
 },
 "nbformat": 4,
 "nbformat_minor": 5
}
